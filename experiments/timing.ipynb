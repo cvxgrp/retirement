{
 "cells": [
  {
   "cell_type": "code",
   "execution_count": 5,
   "metadata": {},
   "outputs": [
    {
     "name": "stdout",
     "output_type": "stream",
     "text": [
      "The autoreload extension is already loaded. To reload it, use:\n",
      "  %reload_ext autoreload\n"
     ]
    }
   ],
   "source": [
    "import numpy as np\n",
    "import pandas as pd\n",
    "import seaborn as sns\n",
    "from utils import Parameters\n",
    "from retirement_problem import get_retirement_problem\n",
    "from data import load_data\n",
    "import cvxpy as cp\n",
    "\n",
    "sns.set_theme(font_scale=1.5, style='whitegrid')\n",
    "\n",
    "%load_ext autoreload\n",
    "%autoreload 2"
   ]
  },
  {
   "cell_type": "code",
   "execution_count": 6,
   "metadata": {},
   "outputs": [],
   "source": [
    "data = load_data()\n",
    "\n",
    "deterministic = False\n",
    "\n",
    "age_start = 60\n",
    "age_end = 105\n",
    "T = age_end - age_start\n",
    "collar = False\n",
    "\n",
    "d_max = 8\n",
    "\n",
    "rho_B = 1.033\n",
    "rho_I = 1.057\n",
    "rho_R = 1.057\n",
    "\n",
    "sex = 'F' \n",
    "\n",
    "B_init = 200.; shares = 1.; basis = B_init / 2; price = B_init\n",
    "I_init = 400.\n",
    "R_init = 200.\n",
    "\n",
    "capital_tax_rate = 0.15\n",
    "\n",
    "gamma = 500.\n",
    "\n",
    "e = pd.Series(np.zeros(120), index=range(120))\n",
    "a = pd.Series(np.zeros(120), index=range(120))\n",
    "a[70:] = 3.938 * 12\n",
    "l = pd.Series(np.zeros(120), index=range(120))\n",
    "c0 = (B_init + I_init + R_init + a.loc[age_start:85].sum() + e[age_start:85].sum()) * 0.0375\n",
    "\n",
    "parameters = Parameters(B_init=B_init,\n",
    "                        I_init=I_init,\n",
    "                        R_init=R_init,\n",
    "                        basis=basis,\n",
    "                        price=price,\n",
    "                        shares=shares,\n",
    "                        age_start=age_start,\n",
    "                        age_end=age_end,\n",
    "                        sex=sex,\n",
    "                        collar=collar,\n",
    "                        rho_B=rho_B,\n",
    "                        rho_I=rho_I,\n",
    "                        rho_R=rho_R,\n",
    "                        e=e,\n",
    "                        a=a,\n",
    "                        l=l,\n",
    "                        d_max=d_max,\n",
    "                        c0=c0,\n",
    "                        gamma=gamma,\n",
    "                        w_stocks_B=None,\n",
    "                        w_stocks_I=None,\n",
    "                        w_stocks_R=None,\n",
    "                        k=data.inflation.median(),\n",
    "                        s1=None,\n",
    "                        s2=None,\n",
    "                        deterministic=deterministic,\n",
    "                        capital_tax_rate=capital_tax_rate)\n"
   ]
  },
  {
   "cell_type": "code",
   "execution_count": 14,
   "metadata": {},
   "outputs": [
    {
     "name": "stdout",
     "output_type": "stream",
     "text": [
      "1463.7879813271138\n",
      "Number of variables: , exact 590, predicted 585\n",
      "Number of equality constrainta: exact 319, predicte 315\n",
      "Number of inequality constraints: exact 408, predicted 405\n",
      "Solve time: 0.009491833 s\n"
     ]
    }
   ],
   "source": [
    "problem = get_retirement_problem(B_init=parameters.B_init,\n",
    "                        I_init=parameters.I_init,\n",
    "                        R_init=parameters.R_init,\n",
    "                        basis=parameters.basis,\n",
    "                        price=parameters.price,\n",
    "                        rho_B=parameters.rho_B,\n",
    "                        rho_I=parameters.rho_I,\n",
    "                        rho_R=parameters.rho_R,\n",
    "                        kappa=data.kappa.loc[age_start:age_start+T-1],\n",
    "                        beta=data.beta,\n",
    "                        eta=data.eta,\n",
    "                        e=parameters.e.loc[age_start:age_start+T-1],\n",
    "                        a=parameters.a.loc[age_start:age_start+T-1],\n",
    "                        l=parameters.l.loc[age_start:age_start+T-1],\n",
    "                        T=T,\n",
    "                        d_max=parameters.d_max,\n",
    "                        c0=parameters.c0,\n",
    "                        gamma=parameters.gamma,\n",
    "                        deterministic=parameters.deterministic,\n",
    "                        capital_tax_rate=parameters.capital_tax_rate)\n",
    "\n",
    "import time\n",
    "kwargs = {'solver' : 'CLARABEL', 'verbose' : False}\n",
    "a = time.time()\n",
    "print(problem.problem.solve(**kwargs))\n",
    "b = time.time()\n",
    "\n",
    "problem.problem.solver_stats\n",
    "print(f'Number of variables: , exact {sum([v.size for v in problem.problem.variables()])}, predicted {13 * T}')\n",
    "constraints = problem.problem.constraints\n",
    "equality_constraints = [con for con in constraints if isinstance(con, cp.constraints.Equality)]\n",
    "inequality_constraints = [con for con in constraints if isinstance(con, cp.constraints.Inequality)]\n",
    "print(f'Number of equality constrainta: exact {sum([con.size for con in equality_constraints])}, predicte {7 * T}')\n",
    "print(f'Number of inequality constraints: exact {sum([con.size for con in inequality_constraints])}, predicted {9 * T}')\n",
    "print(f'Solve time: {problem.problem.solver_stats.solve_time} s')\n"
   ]
  }
 ],
 "metadata": {
  "kernelspec": {
   "display_name": "cvxretirement-d2guEFkF-py3.10",
   "language": "python",
   "name": "python3"
  },
  "language_info": {
   "codemirror_mode": {
    "name": "ipython",
    "version": 3
   },
   "file_extension": ".py",
   "mimetype": "text/x-python",
   "name": "python",
   "nbconvert_exporter": "python",
   "pygments_lexer": "ipython3",
   "version": "3.10.15"
  }
 },
 "nbformat": 4,
 "nbformat_minor": 2
}
